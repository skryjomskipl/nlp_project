{
 "cells": [
  {
   "cell_type": "code",
   "execution_count": 1,
   "metadata": {
    "collapsed": false
   },
   "outputs": [
    {
     "name": "stdout",
     "output_type": "stream",
     "text": [
      "Reading dataset from path: data/subtask11/new/1.1.text.xml\n",
      "Reading relations from path: data/subtask11/new/1.1.relations.txt\n"
     ]
    }
   ],
   "source": [
    "# This file created by chathuri to find out best feature combinations\n",
    "\n",
    "from dataset import *\n",
    "from common import *\n",
    "from modules import *\n",
    "import itertools\n",
    "import code\n",
    "import copy\n",
    "import random\n",
    "import nltk\n",
    "#nltk.download()\n",
    "\n",
    "train_data = 'data/subtask11/new/1.1.text.xml'\n",
    "train_rel = 'data/subtask11/new/1.1.relations.txt'\n",
    "\n",
    "utils = Utils()\n",
    "train = Dataset(train_data, train_rel)\n",
    "train.read(utils)\n",
    "\n",
    "train, test = utils.do_split(train, 0.6, seed = 0)\n",
    "\n",
    "\n",
    "# Prepare utilities\n",
    "utils = Utils()\n",
    "\n",
    "featuresRoot=FeatureRoot(utils)# this class has collection of all features , easy to select deselect\n",
    "tfIdfCalculator=TfIdfCalculator(utils); #this calc if idf for the dataset\n",
    "\n",
    "# Enable features in this order: Przemek, Samantha, Chathuri\n",
    "features_state = [False,False ,  True]\n",
    "\n",
    "\n",
    "# Create training set\n",
    "featuresRoot.set_dataset(train)\n",
    "\n",
    "#calculate tf idf for the whole training data set abstracts\n",
    "tfIdfCalculator.set_dataset(train)\n",
    "s=tfIdfCalculator.calc_ifidf_data()\n",
    "\n",
    "\n",
    "##train_X, train_Y = features.prepare_data(features_state)\n",
    "train_X1, train_Y1 = featuresRoot.prepare_data(features_state)\n",
    "\n",
    "# Create test set\n",
    "featuresRoot.set_dataset(test)\n",
    "\n",
    "tfIdfCalculator.set_dataset(test)\n",
    "s=tfIdfCalculator.calc_ifidf_data()\n",
    "\n",
    "test_X1, test_Y1 = featuresRoot.prepare_data(features_state, test_dataset = True)\n"
   ]
  },
  {
   "cell_type": "code",
   "execution_count": 3,
   "metadata": {
    "collapsed": false
   },
   "outputs": [
    {
     "name": "stderr",
     "output_type": "stream",
     "text": [
      "/home/brahmanacsw/anaconda3/lib/python3.5/site-packages/sklearn/metrics/classification.py:1074: UndefinedMetricWarning: F-score is ill-defined and being set to 0.0 in labels with no predicted samples.\n",
      "  'precision', 'predicted', average, warn_for)\n",
      "/home/brahmanacsw/anaconda3/lib/python3.5/site-packages/sklearn/metrics/classification.py:1074: UndefinedMetricWarning: Precision is ill-defined and being set to 0.0 in labels with no predicted samples.\n",
      "  'precision', 'predicted', average, warn_for)\n"
     ]
    }
   ],
   "source": [
    "#provide and array of numbers each repesenting a active feature\n",
    "#stuff=[1,2,3,4,5,6,7,8,9,10,11,12,13,14,15,16,17,18]; \n",
    "stuff=list(range(1,6))    \n",
    "setsTrain=[]\n",
    "setsTest=[]\n",
    "setsFea=[]\n",
    "out = open('FindFeatures.csv', 'w')\n",
    "for L in range(1, len(train_X1[1])+1):# define array of features and get len of it \n",
    "    for subset in itertools.combinations(stuff, L): #for each subset train and do classification, write accuracies into a file\n",
    "        \n",
    "        setsFea=(subset)\n",
    "        set2=[]\n",
    "        for i in range(len(train_X1)):#for each rel\n",
    "            set=[]\n",
    "            for j in range(len(subset)):# for each instance subset of features\n",
    "                ind=subset[j]\n",
    "                #print(ind)\n",
    "                set.append(train_X1[i][ind-1])\n",
    "            set2.append(set)\n",
    "        setsTrain=set2\n",
    "        #print(setsTrain)\n",
    "        \n",
    "        set2=[]\n",
    "        for i in range(len(test_X1)):#for each rel\n",
    "            set=[]\n",
    "            for j in range(len(subset)):# for each instance subset of features\n",
    "                ind=subset[j]\n",
    "                #print(ind)\n",
    "                set.append(test_X1[i][ind-1])\n",
    "            set2.append(set)\n",
    "        setsTest=set2\n",
    "        \n",
    "        train_x1=setsTrain\n",
    "        test_x1=setsTest\n",
    "        #select the classifier you want\n",
    "        #clf = utils.get_classifier(\"Naive Bayes\")#Decision Tree, Naive Bayes, SVM\n",
    "        #clf = utils.get_classifier(\"Decision Tree\")\n",
    "        clf = utils.get_classifier(\"SVM\")\n",
    "\n",
    "        #fit dataset\n",
    "\n",
    "        clf = clf.fit(train_x1, train_Y1)\n",
    "        #take subset out \n",
    "        test_Y = clf.predict(test_x1)\n",
    "\n",
    "  \n",
    "        #print(\"\\n=> Results\")\n",
    "        featuresRoot.set_dataset(test)\n",
    "        #featuresRoot.print_results(test_Y)\n",
    "\n",
    "        # Compute accuracy\n",
    "        featuresRoot.set_dataset(test)\n",
    "        test_key_Y1 = featuresRoot.get_dataset_key()\n",
    "        \n",
    "        #print data to a file\n",
    "        mystring = \"\"\n",
    "        mystring = '+'.join([str(x) for x in setsFea])\n",
    "        out.write('%d;' % round(utils.get_accuracy(test_key_Y1, test_Y), 2))\n",
    "        out.write('%d;' % round(utils.get_fmeasure(test_key_Y1, test_Y), 2))\n",
    "        out.write('%d;' % round(utils.get_precision(test_key_Y1, test_Y), 2))\n",
    "        #out.write('%d;' % round(utils.get_recall(test_key_Y1, test_Y), 2))\n",
    "        out.write('%s;' % mystring)\n",
    "   \n",
    "        out.write('\\n')\n",
    "        "
   ]
  },
  {
   "cell_type": "code",
   "execution_count": null,
   "metadata": {
    "collapsed": true
   },
   "outputs": [],
   "source": []
  }
 ],
 "metadata": {
  "anaconda-cloud": {},
  "kernelspec": {
   "display_name": "Python [default]",
   "language": "python",
   "name": "python3"
  },
  "language_info": {
   "codemirror_mode": {
    "name": "ipython",
    "version": 3
   },
   "file_extension": ".py",
   "mimetype": "text/x-python",
   "name": "python",
   "nbconvert_exporter": "python",
   "pygments_lexer": "ipython3",
   "version": "3.5.2"
  }
 },
 "nbformat": 4,
 "nbformat_minor": 1
}
