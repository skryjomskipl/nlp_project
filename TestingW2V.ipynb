{
 "cells": [
  {
   "cell_type": "code",
   "execution_count": null,
   "metadata": {
    "collapsed": false
   },
   "outputs": [],
   "source": [
    "# This file created by chathuri to find out W2V values for all the relationships annotated by SemEval task \n",
    "#basically testing the W2V for feature extraction (Subtask 2)\n",
    "\n",
    "\n",
    "from dataset import *\n",
    "from common import *\n",
    "from modules import *\n",
    "import itertools\n",
    "import code\n",
    "import copy\n",
    "import random\n",
    "import nltk\n",
    "#nltk.download()\n",
    "\n",
    "train_data = 'data/subtask11/new/1.1.text.xml'\n",
    "train_rel = 'data/subtask11/new/1.1.relations.txt'\n",
    "\n",
    "utils = Utils()\n",
    "train = Dataset(train_data, train_rel)\n",
    "train.read(utils)\n",
    "\n",
    "train, test = utils.do_split(train, 0.6, seed = 0)\n",
    "\n",
    "# Prepare utilities\n",
    "utils = Utils()\n",
    "\n",
    "#uncomment this part to calc w2v valu for each annotated antity and print them into a file called :w2v_for_all_rel.csv\n",
    "\"\"\"\n",
    "w2Vtester=W2Vtester(utils)\n",
    "w2Vtester.set_dataset(train)\n",
    "w2Vtester.prepare_data()\n",
    "\"\"\"\n",
    "\n",
    "#calculate 42v value for all entities and store them in a text file\n",
    "w2V_Calculator=W2V_Calculator(utils,'featureExtraction1.csv')\n",
    "w2V_Calculator.set_dataset(train)\n",
    "w2V_Calculator.calc_w2v()"
   ]
  },
  {
   "cell_type": "code",
   "execution_count": null,
   "metadata": {
    "collapsed": true
   },
   "outputs": [],
   "source": []
  },
  {
   "cell_type": "code",
   "execution_count": null,
   "metadata": {
    "collapsed": true
   },
   "outputs": [],
   "source": []
  }
 ],
 "metadata": {
  "anaconda-cloud": {},
  "kernelspec": {
   "display_name": "Python [default]",
   "language": "python",
   "name": "python3"
  },
  "language_info": {
   "codemirror_mode": {
    "name": "ipython",
    "version": 3
   },
   "file_extension": ".py",
   "mimetype": "text/x-python",
   "name": "python",
   "nbconvert_exporter": "python",
   "pygments_lexer": "ipython3",
   "version": "3.5.2"
  }
 },
 "nbformat": 4,
 "nbformat_minor": 1
}
