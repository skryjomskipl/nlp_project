{
 "cells": [
  {
   "cell_type": "code",
   "execution_count": 1,
   "metadata": {
    "scrolled": true
   },
   "outputs": [
    {
     "name": "stdout",
     "output_type": "stream",
     "text": [
      "Reading dataset from path: data/subtask11/new/1.1.text.xml\n",
      "Reading relations from path: data/subtask11/new/1.1.relations.txt\n",
      "array   []\n"
     ]
    },
    {
     "ename": "TypeError",
     "evalue": "list indices must be integers, not str",
     "output_type": "error",
     "traceback": [
      "\u001b[0;31m---------------------------------------------------------------------------\u001b[0m",
      "\u001b[0;31mTypeError\u001b[0m                                 Traceback (most recent call last)",
      "\u001b[0;32m<ipython-input-1-20f956d25520>\u001b[0m in \u001b[0;36m<module>\u001b[0;34m()\u001b[0m\n\u001b[1;32m     36\u001b[0m \u001b[0mb\u001b[0m\u001b[0;34m=\u001b[0m\u001b[0mbigram\u001b[0m\u001b[0;34m.\u001b[0m\u001b[0mcalc_bigram\u001b[0m\u001b[0;34m(\u001b[0m\u001b[0;34m)\u001b[0m\u001b[0;34m\u001b[0m\u001b[0m\n\u001b[1;32m     37\u001b[0m \u001b[0;34m\u001b[0m\u001b[0m\n\u001b[0;32m---> 38\u001b[0;31m \u001b[0mtrain_X\u001b[0m\u001b[0;34m,\u001b[0m \u001b[0mtrain_Y\u001b[0m \u001b[0;34m=\u001b[0m \u001b[0mfeatures\u001b[0m\u001b[0;34m.\u001b[0m\u001b[0mprepare_data\u001b[0m\u001b[0;34m(\u001b[0m\u001b[0mfeatures_state\u001b[0m\u001b[0;34m)\u001b[0m\u001b[0;34m\u001b[0m\u001b[0m\n\u001b[0m\u001b[1;32m     39\u001b[0m \u001b[0;34m\u001b[0m\u001b[0m\n\u001b[1;32m     40\u001b[0m \u001b[0;31m# Prepare vectors\u001b[0m\u001b[0;34m\u001b[0m\u001b[0;34m\u001b[0m\u001b[0m\n",
      "\u001b[0;32m~/Desktop/latest/nlp_project/modules/features.py\u001b[0m in \u001b[0;36mprepare_data\u001b[0;34m(self, features_state, test_dataset)\u001b[0m\n\u001b[1;32m     89\u001b[0m             \u001b[0;31m# [2] Features Samantha\u001b[0m\u001b[0;34m\u001b[0m\u001b[0;34m\u001b[0m\u001b[0m\n\u001b[1;32m     90\u001b[0m             \u001b[0;32mif\u001b[0m \u001b[0mf2\u001b[0m\u001b[0;34m:\u001b[0m\u001b[0;34m\u001b[0m\u001b[0m\n\u001b[0;32m---> 91\u001b[0;31m                 \u001b[0mfeatures\u001b[0m \u001b[0;34m+=\u001b[0m \u001b[0mf2\u001b[0m\u001b[0;34m.\u001b[0m\u001b[0mget_features\u001b[0m\u001b[0;34m(\u001b[0m\u001b[0mrel\u001b[0m\u001b[0;34m)\u001b[0m\u001b[0;34m\u001b[0m\u001b[0m\n\u001b[0m\u001b[1;32m     92\u001b[0m \u001b[0;34m\u001b[0m\u001b[0m\n\u001b[1;32m     93\u001b[0m             \u001b[0;31m# [3] Features Chathuri\u001b[0m\u001b[0;34m\u001b[0m\u001b[0;34m\u001b[0m\u001b[0m\n",
      "\u001b[0;32m~/Desktop/latest/nlp_project/modules/features_f2.py\u001b[0m in \u001b[0;36mget_features\u001b[0;34m(self, rel)\u001b[0m\n\u001b[1;32m    455\u001b[0m \u001b[0;34m\u001b[0m\u001b[0m\n\u001b[1;32m    456\u001b[0m         \u001b[0;31m#first_word_after_E1=self.__first_word_after_E1(abstract,rel,0)\u001b[0m\u001b[0;34m\u001b[0m\u001b[0;34m\u001b[0m\u001b[0m\n\u001b[0;32m--> 457\u001b[0;31m         \u001b[0mfirst_word_after_E1\u001b[0m\u001b[0;34m=\u001b[0m\u001b[0mself\u001b[0m\u001b[0;34m.\u001b[0m\u001b[0m__first_word_after_E1\u001b[0m\u001b[0;34m(\u001b[0m\u001b[0mabstract\u001b[0m\u001b[0;34m,\u001b[0m\u001b[0mrel\u001b[0m\u001b[0;34m,\u001b[0m\u001b[0;36m1\u001b[0m\u001b[0;34m)\u001b[0m\u001b[0;34m\u001b[0m\u001b[0m\n\u001b[0m\u001b[1;32m    458\u001b[0m         \u001b[0mX\u001b[0m\u001b[0;34m.\u001b[0m\u001b[0mappend\u001b[0m\u001b[0;34m(\u001b[0m  \u001b[0mfirst_word_after_E1\u001b[0m\u001b[0;34m)\u001b[0m\u001b[0;34m\u001b[0m\u001b[0m\n\u001b[1;32m    459\u001b[0m \u001b[0;34m\u001b[0m\u001b[0m\n",
      "\u001b[0;32m~/Desktop/latest/nlp_project/modules/features_f2.py\u001b[0m in \u001b[0;36m__first_word_after_E1\u001b[0;34m(self, abstract, rel, flag)\u001b[0m\n\u001b[1;32m     61\u001b[0m         \u001b[0mutils\u001b[0m \u001b[0;34m=\u001b[0m \u001b[0mUtils\u001b[0m\u001b[0;34m(\u001b[0m\u001b[0;34m)\u001b[0m\u001b[0;34m\u001b[0m\u001b[0m\n\u001b[1;32m     62\u001b[0m         \u001b[0mbb\u001b[0m\u001b[0;34m=\u001b[0m \u001b[0mBigram\u001b[0m\u001b[0;34m(\u001b[0m\u001b[0mutils\u001b[0m\u001b[0;34m)\u001b[0m\u001b[0;34m\u001b[0m\u001b[0m\n\u001b[0;32m---> 63\u001b[0;31m         \u001b[0mbigram\u001b[0m \u001b[0;34m=\u001b[0m \u001b[0mbb\u001b[0m\u001b[0;34m.\u001b[0m\u001b[0mget_bigram\u001b[0m\u001b[0;34m(\u001b[0m\u001b[0mps\u001b[0m\u001b[0;34m.\u001b[0m\u001b[0mstem\u001b[0m\u001b[0;34m(\u001b[0m\u001b[0mword\u001b[0m\u001b[0;34m)\u001b[0m\u001b[0;34m)\u001b[0m\u001b[0;34m\u001b[0m\u001b[0m\n\u001b[0m\u001b[1;32m     64\u001b[0m         \u001b[0mprint\u001b[0m\u001b[0;34m(\u001b[0m\u001b[0;34m\"bigrams :   \"\u001b[0m\u001b[0;34m,\u001b[0m\u001b[0mbigram\u001b[0m\u001b[0;34m)\u001b[0m\u001b[0;34m\u001b[0m\u001b[0m\n\u001b[1;32m     65\u001b[0m         \u001b[0;32mif\u001b[0m \u001b[0mbigram\u001b[0m\u001b[0;34m:\u001b[0m\u001b[0;34m\u001b[0m\u001b[0m\n",
      "\u001b[0;32m~/Desktop/latest/nlp_project/modules/bigram.py\u001b[0m in \u001b[0;36mget_bigram\u001b[0;34m(self, word)\u001b[0m\n\u001b[1;32m     41\u001b[0m             \u001b[0mself\u001b[0m\u001b[0;34m.\u001b[0m\u001b[0mprefix_keys\u001b[0m\u001b[0;34m[\u001b[0m\u001b[0mkey\u001b[0m\u001b[0;34m]\u001b[0m\u001b[0;34m.\u001b[0m\u001b[0msort\u001b[0m\u001b[0;34m(\u001b[0m\u001b[0mkey\u001b[0m \u001b[0;34m=\u001b[0m \u001b[0;32mlambda\u001b[0m \u001b[0mx\u001b[0m\u001b[0;34m:\u001b[0m \u001b[0;34m-\u001b[0m\u001b[0mx\u001b[0m\u001b[0;34m[\u001b[0m\u001b[0;36m1\u001b[0m\u001b[0;34m]\u001b[0m\u001b[0;34m)\u001b[0m\u001b[0;34m\u001b[0m\u001b[0m\n\u001b[1;32m     42\u001b[0m \u001b[0;34m\u001b[0m\u001b[0m\n\u001b[0;32m---> 43\u001b[0;31m         \u001b[0mval\u001b[0m \u001b[0;34m=\u001b[0m \u001b[0mself\u001b[0m\u001b[0;34m.\u001b[0m\u001b[0mprefix_keys\u001b[0m\u001b[0;34m[\u001b[0m\u001b[0mword\u001b[0m\u001b[0;34m]\u001b[0m\u001b[0;34m[\u001b[0m\u001b[0;34m:\u001b[0m\u001b[0;36m1\u001b[0m\u001b[0;34m]\u001b[0m\u001b[0;34m\u001b[0m\u001b[0m\n\u001b[0m\u001b[1;32m     44\u001b[0m \u001b[0;34m\u001b[0m\u001b[0m\n\u001b[1;32m     45\u001b[0m         \u001b[0;32mreturn\u001b[0m \u001b[0mval\u001b[0m\u001b[0;34m\u001b[0m\u001b[0m\n",
      "\u001b[0;31mTypeError\u001b[0m: list indices must be integers, not str"
     ]
    }
   ],
   "source": [
    "# Written by: Chathuri\n",
    "\n",
    "# Subtask 1.1 - Split 60/40 (new)\n",
    "\n",
    "\n",
    "from dataset import *\n",
    "from common import *\n",
    "from modules import *\n",
    "from modules.bigram import Bigram\n",
    "import code\n",
    "import copy\n",
    "import random\n",
    "\n",
    "train_data = 'data/subtask11/new/1.1.text.xml'\n",
    "train_rel = 'data/subtask11/new/1.1.relations.txt'\n",
    "\n",
    "# Prepare utilities\n",
    "utils = Utils()\n",
    "features = FeatureExtraction(utils)\n",
    "tfIdfCalculator=TfIdfCalculator(utils)\n",
    "bigram = Bigram(utils)\n",
    "train = Dataset(train_data, train_rel)\n",
    "train.read(utils)\n",
    "\n",
    "# Enable features in this order: Przemek, Samantha, Chathuri\n",
    "features_state = [False, True, False]\n",
    "\n",
    "# Do a 60/40 split\n",
    "train, test = utils.do_split(train, 0.6, seed = 0)\n",
    "\n",
    "# Create training set\n",
    "features.set_dataset(train)\n",
    "tfIdfCalculator.set_dataset(train)\n",
    "s=tfIdfCalculator.calc_ifidf_data()\n",
    "bigram.set_dataset(train)\n",
    "b=bigram.calc_bigram()\n",
    " \n",
    "train_X, train_Y = features.prepare_data(features_state)\n",
    "\n",
    "# Prepare vectors\n",
    "features.set_dataset(test)\n",
    "tfIdfCalculator.set_dataset(test)\n",
    "s=tfIdfCalculator.calc_ifidf_data()\n",
    "bigram.set_dataset(test)\n",
    "b=bigram.calc_bigram()\n",
    "test_X, test_Y = features.prepare_data(features_state, test_dataset = True)\n",
    "\n",
    "# Classify\n",
    "#clf = utils.get_classifier(\"Naive Bayes\")#Decision Tree, Naive Bayes, SVM\n",
    "#clf = utils.get_classifier(\"Decision Tree\")\n",
    "clf = utils.get_classifier(\"SVM\")\n",
    "clf = clf.fit(train_X, train_Y)\n",
    "test_Y = clf.predict(test_X)\n",
    "\n",
    "print(\"\\n=> Training set\")\n",
    "print(\" -> X\")\n",
    "print(train_X)\n",
    "print(\" -> Y\")\n",
    "print(train_Y)\n",
    "print(\"\\n=> Development set\")\n",
    "print(\" -> X\")\n",
    "print(test_X)\n",
    "print(\" -> Y\")\n",
    "print(test_Y)\n",
    "\n",
    "# Preparing results\n",
    "print(\"\\n=> Results\")\n",
    "features.set_dataset(test)\n",
    "features.print_results(test_Y)\n",
    "\n",
    "# Compute accuracy\n",
    "features.set_dataset(test)\n",
    "test_key_Y = features.get_dataset_key()\n",
    "\n",
    "# Get results\n",
    "print(\"\\n=> Metrics\")\n",
    "print(\"Accuracy:          \", round(utils.get_accuracy(test_key_Y, test_Y), 2), \"%\", sep = '')\n",
    "print(\"F-Measure:         \", round(utils.get_fmeasure(test_key_Y, test_Y), 2), \"%\", sep = '')\n",
    "print(\"Precision:          \", round(utils.get_precision(test_key_Y, test_Y), 2), \"%\", sep = '')\n",
    "print(\"Recall:         \", round(utils.get_recall(test_key_Y, test_Y), 2), \"%\", sep = '')"
   ]
  },
  {
   "cell_type": "code",
   "execution_count": null,
   "metadata": {},
   "outputs": [],
   "source": []
  },
  {
   "cell_type": "code",
   "execution_count": null,
   "metadata": {
    "collapsed": true
   },
   "outputs": [],
   "source": []
  }
 ],
 "metadata": {
  "anaconda-cloud": {},
  "kernelspec": {
   "display_name": "Python 3",
   "language": "python",
   "name": "python3"
  },
  "language_info": {
   "codemirror_mode": {
    "name": "ipython",
    "version": 3
   },
   "file_extension": ".py",
   "mimetype": "text/x-python",
   "name": "python",
   "nbconvert_exporter": "python",
   "pygments_lexer": "ipython3",
   "version": "3.4.3"
  }
 },
 "nbformat": 4,
 "nbformat_minor": 1
}
