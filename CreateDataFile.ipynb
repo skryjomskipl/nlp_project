{
 "cells": [
  {
   "cell_type": "code",
   "execution_count": 1,
   "metadata": {
    "collapsed": false
   },
   "outputs": [
    {
     "name": "stdout",
     "output_type": "stream",
     "text": [
      "Reading dataset from path: data/subtask11/new/1.1.text.xml\n",
      "Reading relations from path: data/subtask11/new/1.1.relations.txt\n"
     ]
    },
    {
     "data": {
      "text/plain": [
       "0"
      ]
     },
     "execution_count": 1,
     "metadata": {},
     "output_type": "execute_result"
    }
   ],
   "source": [
    "# This file created by chathuri to find create a text file which contain the data in abstracts in text format so that\n",
    "#which can be feeded to word2vec\n",
    "\n",
    "\n",
    "from dataset import *\n",
    "from common import *\n",
    "from modules import *\n",
    "import itertools\n",
    "import code\n",
    "import copy\n",
    "import random\n",
    "import nltk\n",
    "#nltk.download()\n",
    "\n",
    "train_data = 'data/subtask11/new/1.1.text.xml'\n",
    "train_rel = 'data/subtask11/new/1.1.relations.txt'\n",
    "\n",
    "train_data = 'data/subtask11/new/1.1.text.xml'\n",
    "train_rel = 'data/subtask11/new/1.1.relations.txt'\n",
    "\n",
    "utils = Utils()\n",
    "train = Dataset(train_data, train_rel)\n",
    "train.read(utils)\n",
    "\n",
    "train, test = utils.do_split(train, 0.9, seed = 0)\n",
    "\n",
    "\n",
    "#reating a text file with a given name, which will contain \n",
    "#the xml data as paragrams so that created word file can be treated directly for w2v  for training it\n",
    "\n",
    "dataMakerForW2V=DataMakerForW2V(utils,'CreateData.txt')\n",
    "dataMakerForW2V.set_dataset(train)\n",
    "dataMakerForW2V.calc_w2v()\n"
   ]
  },
  {
   "cell_type": "code",
   "execution_count": null,
   "metadata": {
    "collapsed": true
   },
   "outputs": [],
   "source": []
  }
 ],
 "metadata": {
  "anaconda-cloud": {},
  "kernelspec": {
   "display_name": "Python [default]",
   "language": "python",
   "name": "python3"
  },
  "language_info": {
   "codemirror_mode": {
    "name": "ipython",
    "version": 3
   },
   "file_extension": ".py",
   "mimetype": "text/x-python",
   "name": "python",
   "nbconvert_exporter": "python",
   "pygments_lexer": "ipython3",
   "version": "3.5.2"
  }
 },
 "nbformat": 4,
 "nbformat_minor": 2
}
